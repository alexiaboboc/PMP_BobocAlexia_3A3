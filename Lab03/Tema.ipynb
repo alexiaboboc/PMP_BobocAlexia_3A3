{
  "nbformat": 4,
  "nbformat_minor": 0,
  "metadata": {
    "colab": {
      "provenance": [],
      "authorship_tag": "ABX9TyM9X4Bu03oiokAzPWIppFkC",
      "include_colab_link": true
    },
    "kernelspec": {
      "name": "python3",
      "display_name": "Python 3"
    },
    "language_info": {
      "name": "python"
    }
  },
  "cells": [
    {
      "cell_type": "markdown",
      "metadata": {
        "id": "view-in-github",
        "colab_type": "text"
      },
      "source": [
        "<a href=\"https://colab.research.google.com/github/alexiaboboc/PMP_BobocAlexia_3A3/blob/main/Lab03/Tema.ipynb\" target=\"_parent\"><img src=\"https://colab.research.google.com/assets/colab-badge.svg\" alt=\"Open In Colab\"/></a>"
      ]
    },
    {
      "cell_type": "markdown",
      "source": [
        "**Ex. 1.**\n",
        "\n",
        "\n",
        "\n",
        "\n",
        ">**$=>$ \"Dacă\"**\n",
        "\\\n",
        "Dacă  $A \\perp C \\mid B$, atunci există două funcții pozitive $\\phi_{A,B}(x_A, x_B)$, $\\phi_{B,C}(x_B, x_C)$ și o constantă de normalizare $k>0$ astfel încât:\n",
        "\\\n",
        "$P(A = x_A, B = x_B, C = x_C) = \\frac{1}{k} \\cdot \\phi_{A,B}(x_A, x_B) \\cdot \\phi_{B,C}(x_B, x_C)$\n",
        "\n",
        "\n",
        "\\\n",
        "$A \\perp C \\mid B$, înseamnă că A și C sunt independente condiționat de B, deci:\n",
        "\\\n",
        "$P(A = x_A, C = x_C \\mid B = x_B) = P(A = x_A \\mid B = x_B) \\cdot P(C = x_C \\mid B = x_B)$\n",
        "\\\n",
        "\\\n",
        "Folosind regula produsului pentru probabilitățile condiționate, putem rescrie astfel:\n",
        "\\\n",
        "$P(A = x_A, C = x_C, B = x_B) = P(A = x_A \\mid B = x_B) \\cdot P(C = x_C \\mid B = x_B) \\cdot P(B = x_B)$\n",
        "\\\n",
        "\\\n",
        "Observăm că putem să ne referim la  $\\phi_{A,B}(x_A, x_B) = P(A = x_A \\mid B = x_B) \\cdot P(B = x_B)$  și  $\\phi_{B,C}(x_B, x_C) = P(C = x_C \\mid B = x_B)$, ambele funcții fiind pozitive, deoarece probabilitățile condiționate sunt pozitive.\n",
        "\\\n",
        "\\\n",
        "Rezultă că  $P(A = x_A, B = x_B, C = x_C)$ poate fi factorizat sub forma:\n",
        "\\\n",
        "$P(A = x_A, B = x_B, C = x_C) = \\frac{1}{k} \\cdot \\phi_{A,B}(x_A, x_B) \\cdot \\phi_{B,C}(x_B, x_C)$, unde $k>0$ este o constantă de normalizare.\n",
        "\n",
        "\\\n",
        "\n",
        "\n",
        "> **$<=$ \"Numai dacă\"**\n",
        " Dacă $ P(A = x_A, B = x_B, C = x_C) = \\frac{1}{k} \\cdot \\phi_{A,B}(x_A, x_B) \\cdot \\phi_{B,C}(x_B, x_C)$,\n",
        "atunci $ A \\perp C \\mid B $\n",
        "\n",
        "\\\n",
        "Calculăm probabilitatea condiționată $P(A = x_A, C = x_C \\mid B = x_B)$, folosind regula probabilității condiționate:\n",
        "\\\n",
        "$P(A = x_A, C = x_C \\mid B = x_B) = \\frac{P(A = x_A, B = x_B, C = x_C)}{P(B = x_B)}$\n",
        "\\\n",
        "\\\n",
        "Folosim factorizarea:\n",
        "\\\n",
        "$P(A = x_A, C = x_C \\mid B = x_B) = \\frac{\\frac{1}{k} \\cdot \\phi_{A,B}(x_A, x_B) \\cdot \\phi_{B,C}(x_B, x_C)}{P(B = x_B)}\n",
        "$\n",
        "\\\n",
        "\\\n",
        "Rescriem ca:\n",
        "\\\n",
        "$P(A = x_A, C = x_C \\mid B = x_B) = \\frac{\\phi_{A,B}(x_A, x_B)}{P(B = x_B)} \\cdot \\frac{\\phi_{B,C}(x_B, x_C)}{P(B = x_B)}$, deoarece factorul $\\frac{1}{k}$ este un factor de normalizare care asigură că probabilitățile se însumează la 1 și putem să-l reducem când lucrăm cu distribuții condiționate, deoarece normalizarea distribuțiilor este implicită.\n",
        "\\\n",
        "\\\n",
        "Putem interpreta ca:\n",
        "- $\\phi_{A,B}(x_A, x_B)$  reprezintă funcția de potențial care descrie interacțiunea dintre  A  și  B\n",
        "- $\\phi_{A,B}(x_A, x_B)$  reprezintă funcția de potențial care descrie interacțiunea dintre  A  și  B\n",
        "- $P(B = x_B)$  este un factor de normalizare care face ca probabilitatea să fie corectă, asigurând că probabilitățile condiționate  $P(A, C \\mid B)$  însumează la 1 pentru fiecare valoare a lui  B\n",
        "\n",
        "Această formă sugerează că fiecare termen din produs depinde de  $B = x_B$ , iar potențialele  $\\phi_{A,B}$  și  $\\phi_{B,C}$  pot fi interpretate ca probabilități condiționate ale fiecărei variabile date  B.\n",
        "\n",
        "\\\n",
        "$P(A = x_A \\mid B = x_B)$  poate fi exprimată astfel:\n",
        "\n",
        "\n",
        "$P(A = x_A \\mid B = x_B) = \\frac{\\phi_{A,B}(x_A, x_B)}{P(B = x_B)}$\n",
        "\n",
        "\\\n",
        "$P(C = x_C \\mid B = x_B)$  poate fi exprimată astfel:\n",
        "\n",
        "$P(C = x_C \\mid B = x_B) = \\frac{\\phi_{B,C}(x_B, x_C)}{P(B = x_B)}$\n",
        "\\\n",
        "\\\n",
        "Rezultă că putem rescrie expresia astfel:\n",
        "$\n",
        "P(A = x_A, C = x_C \\mid B = x_B) = P(A = x_A \\mid B = x_B) \\cdot P(C = x_C \\mid B = x_B)\n",
        "$,\n",
        "care este definiția $ A \\perp C \\mid B$.\n",
        "\\\n",
        "\\\n",
        "\\\n",
        "Ambele sensuri au fost demonstrate **=>** echivalență demonstrată.\n",
        "\n",
        "\n"
      ],
      "metadata": {
        "id": "w1C4iIe3DKmA"
      }
    },
    {
      "cell_type": "markdown",
      "source": [
        "**Ex. 2.**"
      ],
      "metadata": {
        "id": "ZXGgc99vBcsV"
      }
    },
    {
      "cell_type": "code",
      "source": [
        "pip install pgmpy"
      ],
      "metadata": {
        "collapsed": true,
        "id": "QwKrPmYKC5QX"
      },
      "execution_count": null,
      "outputs": []
    },
    {
      "cell_type": "code",
      "execution_count": 6,
      "metadata": {
        "colab": {
          "base_uri": "https://localhost:8080/"
        },
        "collapsed": true,
        "id": "sloSI__eC8TE",
        "outputId": "b6618d6c-e8ee-42bc-fb6c-214c48dabfc8"
      },
      "outputs": [
        {
          "name": "stdout",
          "output_type": "stream",
          "text": [
            "Introduceți numărul de stații meteo: 5\n",
            "Introduceți vecinii fiecărei stații sub forma: S1 S2 (pentru o muchie între stațiile S1 și S2)\n",
            "Muchie: 0 1\n",
            "Muchie: 1 2\n",
            "Muchie: 2 3\n",
            "Muchie: 3 4\n",
            "Introduceți P(S) pentru stația S1: 0.6\n",
            "Introduceți P(P) pentru stația S1: 0.3\n",
            "Introduceți P(N) pentru stația S1: .1\n",
            "Introduceți P(S) pentru stația S2: 0.4\n",
            "Introduceți P(P) pentru stația S2: 0.2\n",
            "Introduceți P(N) pentru stația S2: 0.4\n",
            "Introduceți P(S) pentru stația S3: 0.5\n",
            "Introduceți P(P) pentru stația S3: 0.3\n",
            "Introduceți P(N) pentru stația S3: 0.2\n",
            "Introduceți P(S) pentru stația S4: 0.2\n",
            "Introduceți P(P) pentru stația S4: 0.5\n",
            "Introduceți P(N) pentru stația S4: 0.3\n",
            "Introduceți P(S) pentru stația S5: 0.4\n",
            "Introduceți P(P) pentru stația S5: 0.3\n",
            "Introduceți P(N) pentru stația S5: 0.2\n"
          ]
        },
        {
          "output_type": "stream",
          "name": "stderr",
          "text": [
            "WARNING:pgmpy:MarkovModel has been renamed to MarkovNetwork. Please use MarkovNetwork class, MarkovModel will be removed in future.\n",
            "WARNING:pgmpy:MarkovModel has been renamed to MarkovNetwork. Please use MarkovNetwork class, MarkovModel will be removed in future.\n",
            "WARNING:pgmpy:MarkovModel has been renamed to MarkovNetwork. Please use MarkovNetwork class, MarkovModel will be removed in future.\n",
            "WARNING:pgmpy:MarkovModel has been renamed to MarkovNetwork. Please use MarkovNetwork class, MarkovModel will be removed in future.\n",
            "WARNING:pgmpy:MarkovModel has been renamed to MarkovNetwork. Please use MarkovNetwork class, MarkovModel will be removed in future.\n"
          ]
        },
        {
          "output_type": "stream",
          "name": "stdout",
          "text": [
            "Stația S1: Soare\n",
            "Stația S2: Soare\n",
            "Stația S3: Soare\n",
            "Stația S4: Soare\n",
            "Stația S5: Soare\n"
          ]
        }
      ],
      "source": [
        "from pgmpy.models import MarkovModel\n",
        "from pgmpy.factors.discrete import DiscreteFactor\n",
        "from pgmpy.inference import BeliefPropagation\n",
        "\n",
        "# date de intrare\n",
        "n = int(input(\"numarul de statii meteo: \"))  # numarul de statii\n",
        "edges = []  #muchii dintre statiile meteo\n",
        "print(\"vecinii fiecarei statii sub forma: 1 2 (pentru muchie intre S1 si S2)\")\n",
        "for _ in range(n - 1):  # graf aciclic => n-1 muchii\n",
        "    edge = tuple(map(int, input(\"Muchie: \").split()))\n",
        "    edges.append(edge)\n",
        "\n",
        "# probabilitatile initiale pentru fiecare statie (Soare, Ploaie, Nori)\n",
        "prob_initiale = []\n",
        "for i in range(n):\n",
        "    p_s = float(input(f\"P(S) pentru S{i+1}: \"))\n",
        "    p_p = float(input(f\"P(P) pentru S{i+1}: \"))\n",
        "    p_n = float(input(f\"P(N) pentru S{i+1}: \"))\n",
        "    prob_initiale.append((p_s, p_p, p_n))\n",
        "\n",
        "# matricea potentialului intre statiile vecine\n",
        "potentials_matrix = [\n",
        "    [0.7, 0.2, 0.1],\n",
        "    [0.2, 0.6, 0.2],\n",
        "    [0.1, 0.3, 0.6]\n",
        "]\n",
        "\n",
        "# crearea modelului Markovian\n",
        "model = MarkovModel()\n",
        "\n",
        "# adaugarea nodurilor (statiile meteo)\n",
        "model.add_nodes_from([i for i in range(n)])\n",
        "\n",
        "# adaugarea muchiilor (dependentele dintre statiile meteo)\n",
        "model.add_edges_from(edges)\n",
        "\n",
        "# definirea potentialelor pentru fiecare muchie (pereche de statii vecine)\n",
        "factors = []\n",
        "\n",
        "for edge in edges:\n",
        "    factor = DiscreteFactor(\n",
        "        variables=edge,                 # perechea de variabile (statiile vecine)\n",
        "        cardinality=[3, 3],             # fiecare statie poate fi intr-una din cele 3 stari\n",
        "        values=potentials_matrix        # matricea potentialelor pentru fiecare pereche\n",
        "    )\n",
        "    model.add_factors(factor)\n",
        "\n",
        "# adaugarea probabilitatilor initiale pentru fiecare statie\n",
        "for i in range(n):\n",
        "    factor = DiscreteFactor(\n",
        "        variables=[i],                  # fiecare statie individual\n",
        "        cardinality=[3],                # 3 stări pentru fiecare stație\n",
        "        values=prob_initiale[i]         # probabilitatile initiale pentru Soare, Ploaie, Nori\n",
        "    )\n",
        "    model.add_factors(factor)\n",
        "\n",
        "# verificarea daca modelul este corect si echilibrat\n",
        "assert model.check_model()\n",
        "\n",
        "# realizarea inferentei folosind obiect de tip BeliefPropagation\n",
        "bp_infer = BeliefPropagation(model)\n",
        "\n",
        "# estimarea MAP (Maximum A Posteriori) pentru fiecare statie => starea cea mai probabila pt fiecare statie\n",
        "map_result = bp_infer.map_query(variables=[i for i in range(n)]) #traduce\n",
        "\n",
        "# rezultat\n",
        "state_map = {0: 'Soare', 1: 'Ploaie', 2: 'Nori'} #traduce rezultatul obtinut de la map_query in stari\n",
        "for i in range(n):\n",
        "    print(f\"Statia S{i+1}: {state_map[map_result[i]]}\")"
      ]
    },
    {
      "cell_type": "markdown",
      "source": [
        "**Ex. 3.**"
      ],
      "metadata": {
        "id": "5wV3-sAXFhrw"
      }
    },
    {
      "cell_type": "code",
      "source": [
        "pip install pgmpy"
      ],
      "metadata": {
        "id": "uxDfpimmCXqq"
      },
      "execution_count": null,
      "outputs": []
    },
    {
      "cell_type": "code",
      "source": [
        "import numpy as np\n",
        "import random\n",
        "import matplotlib.pyplot as plt\n",
        "from pgmpy.models import MarkovModel\n",
        "from pgmpy.factors.discrete import DiscreteFactor\n",
        "from pgmpy.inference import BeliefPropagation\n",
        "\n",
        "# a) generare imagine de dimensiune 5x5\n",
        "original_image = np.random.randint(0, 256, (5, 5))  # img 5x5 (pixeli intre 0 si 255)\n",
        "print(\"Imaginea:\")\n",
        "print(original_image)\n",
        "\n",
        "# b) adaugare zgomot la imagine\n",
        "noisy_image = original_image.copy()\n",
        "num_noisy_pixels = int(0.1 * original_image.size)  # 10% dintre pixeli\n",
        "noisy_indices = random.sample(range(original_image.size), num_noisy_pixels)\n",
        "\n",
        "for idx in noisy_indices:\n",
        "    row, col = divmod(idx, 5)\n",
        "    noisy_image[row, col] = random.randint(0, 255)  # zgomot aleatoriu\n",
        "\n",
        "print(\"imaginea cu zgomot:\")\n",
        "print(noisy_image)\n",
        "\n",
        "# c) definire Markoviene (MRF) pe un grid 2D\n",
        "model = MarkovModel()\n",
        "\n",
        "# adaugarea nodurilor (un nod pentru fiecare pixel din imagine)\n",
        "for i in range(5):\n",
        "    for j in range(5):\n",
        "        model.add_node((i, j))\n",
        "\n",
        "# adaugarea muchiilor intre pixeli vecini (Nord, Sud, Est, Vest)\n",
        "for i in range(5):\n",
        "    for j in range(5):\n",
        "        if i > 0:  # vecin la nord\n",
        "            model.add_edge((i, j), (i - 1, j))\n",
        "        if i < 4:  # vecin la sud\n",
        "            model.add_edge((i, j), (i + 1, j))\n",
        "        if j > 0:  # vecin la vest\n",
        "            model.add_edge((i, j), (i, j - 1))\n",
        "        if j < 4:  # vecin la est\n",
        "            model.add_edge((i, j), (i, j + 1))\n",
        "\n",
        "# definirea parametrilor\n",
        "lambda_reg = 0.5  # factor de regularizare\n",
        "\n",
        "# c) definirea potentialelor pentru functia de energie\n",
        "factors = []\n",
        "\n",
        "# functia de energie:\n",
        "# prima componenta: penalizarea diferentei dintre pixelul curat si pixelul observat\n",
        "# a doua componenta: penalizarea diferentelor intre pixeli vecini (N, S, E, W)\n",
        "\n",
        "# potentiale pentru fiecare pixel observat\n",
        "for i in range(5):\n",
        "    for j in range(5):\n",
        "        y_ij = noisy_image[i, j]  # pixelul observat cu zgomot\n",
        "        potential_values = np.array([np.exp(-lambda_reg * (x_ij - y_ij) ** 2) for x_ij in range(256)]) #lista valori potential pt functia de energie\n",
        "        # pt fiecare pixel\n",
        "        factor = DiscreteFactor(\n",
        "            variables=[(i, j)], #pixelul\n",
        "            cardinality=[256], #0-255 =>256 valori\n",
        "            values=potential_values\n",
        "        )\n",
        "        model.add_factors(factor)\n",
        "\n",
        "# definirea potentialelor pentru pixelii vecini\n",
        "for i in range(5):\n",
        "    for j in range(5):\n",
        "        if i > 0:  # vecin nord\n",
        "            potential_values = np.exp(-np.square(np.arange(256).reshape(256, 1) - np.arange(256).reshape(1, 256)))\n",
        "            factor = DiscreteFactor(\n",
        "                variables=[(i, j), (i - 1, j)], #pixel curent\n",
        "                cardinality=[256, 256], #ambii pixeli iau val de la 0 la 255\n",
        "                values=potential_values\n",
        "            )\n",
        "            model.add_factors(factor)\n",
        "\n",
        "        if j > 0:  # vecin vest\n",
        "            potential_values = np.exp(-np.square(np.arange(256).reshape(256, 1) - np.arange(256).reshape(1, 256)))\n",
        "            factor = DiscreteFactor(\n",
        "                variables=[(i, j), (i, j - 1)],\n",
        "                cardinality=[256, 256],\n",
        "                values=potential_values\n",
        "            )\n",
        "            model.add_factors(factor)\n",
        "\n",
        "# verificarea modelului\n",
        "assert model.check_model()\n",
        "\n",
        "# d) inferenta MAP pentru denoising-ul imaginii folosind Belief Propagation\n",
        "bp_infer = BeliefPropagation(model)\n",
        "map_result = bp_infer.map_query(variables=[(i, j) for i in range(5) for j in range(5)])\n",
        "\n",
        "# reconstruirea imaginii estimate\n",
        "denoised_image = np.zeros((5, 5), dtype=int)\n",
        "for i in range(5):\n",
        "    for j in range(5):\n",
        "        denoised_image[i, j] = map_result[(i, j)]\n",
        "\n",
        "print(\"Imaginea denoisata:\")\n",
        "print(denoised_image)\n",
        "\n",
        "# afisarea imaginilor originala, zgomotată și denoisată\n",
        "plt.figure(figsize=(10, 4))\n",
        "plt.subplot(1, 3, 1)\n",
        "plt.title(\"Imaginea Originala\")\n",
        "plt.imshow(original_image, cmap='gray', vmin=0, vmax=255)\n",
        "\n",
        "plt.subplot(1, 3, 2)\n",
        "plt.title(\"Imaginea cu Zgomot\")\n",
        "plt.imshow(noisy_image, cmap='gray', vmin=0, vmax=255)\n",
        "\n",
        "plt.subplot(1, 3, 3)\n",
        "plt.title(\"Imaginea Denoisata\")\n",
        "plt.imshow(denoised_image, cmap='gray', vmin=0, vmax=255)\n",
        "\n",
        "plt.show()"
      ],
      "metadata": {
        "colab": {
          "base_uri": "https://localhost:8080/"
        },
        "id": "hlX6AzwUFk4o",
        "outputId": "cc0a7057-921a-4ce9-aedd-186633546e7c"
      },
      "execution_count": null,
      "outputs": [
        {
          "output_type": "stream",
          "name": "stderr",
          "text": [
            "WARNING:pgmpy:MarkovModel has been renamed to MarkovNetwork. Please use MarkovNetwork class, MarkovModel will be removed in future.\n"
          ]
        },
        {
          "output_type": "stream",
          "name": "stdout",
          "text": [
            "Imaginea:\n",
            "[[ 86 225 171  10 255]\n",
            " [152  25 136 159 202]\n",
            " [146 236 115  35  71]\n",
            " [137 231 117 174  24]\n",
            " [166  47 170 132 224]]\n",
            "imaginea cu zgomot:\n",
            "[[ 86 225 171  10 255]\n",
            " [152  25 136 159 202]\n",
            " [146 236 115  35  71]\n",
            " [137  79 117 174  24]\n",
            " [ 11  47 170 132 224]]\n"
          ]
        },
        {
          "output_type": "stream",
          "name": "stderr",
          "text": [
            "WARNING:pgmpy:MarkovModel has been renamed to MarkovNetwork. Please use MarkovNetwork class, MarkovModel will be removed in future.\n",
            "WARNING:pgmpy:MarkovModel has been renamed to MarkovNetwork. Please use MarkovNetwork class, MarkovModel will be removed in future.\n",
            "WARNING:pgmpy:MarkovModel has been renamed to MarkovNetwork. Please use MarkovNetwork class, MarkovModel will be removed in future.\n"
          ]
        }
      ]
    }
  ]
}