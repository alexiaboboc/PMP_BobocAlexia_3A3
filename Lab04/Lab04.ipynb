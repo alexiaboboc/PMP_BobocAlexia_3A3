{
  "nbformat": 4,
  "nbformat_minor": 0,
  "metadata": {
    "colab": {
      "provenance": []
    },
    "kernelspec": {
      "name": "python3",
      "display_name": "Python 3"
    },
    "language_info": {
      "name": "python"
    }
  },
  "cells": [
    {
      "cell_type": "code",
      "execution_count": null,
      "metadata": {
        "id": "0K9bqzeSt_uJ"
      },
      "outputs": [],
      "source": [
        "pip install pgmpy"
      ]
    },
    {
      "cell_type": "code",
      "source": [
        "import networkx as nx\n",
        "import matplotlib.pyplot as plt\n",
        "from pgmpy.models import MarkovModel\n",
        "import itertools\n",
        "import numpy as np\n",
        "\n",
        "# a) modelul markov si graful retelei\n",
        "def create_markov_model():\n",
        "    model = MarkovModel()\n",
        "#muchii conform descrierii\n",
        "    edges = [(\"A1\", \"A2\"), (\"A1\", \"A3\"),\n",
        "             (\"A2\", \"A4\"), (\"A2\", \"A5\"),\n",
        "             (\"A3\", \"A4\"),\n",
        "             (\"A4\", \"A5\")]\n",
        "\n",
        "    model.add_edges_from(edges)\n",
        "\n",
        "#desen graf\n",
        "    pos = nx.spring_layout(model)\n",
        "    nx.draw(model, pos, with_labels=True, node_size=3000, node_color=\"skyblue\", font_size=15, font_weight=\"bold\", edge_color='gray')\n",
        "    plt.title(\"Markov Network for A1, A2, A3, A4, A5\")\n",
        "    plt.show()\n",
        "\n",
        "#determinam cliques\n",
        "    cliques = list(nx.find_cliques(model))\n",
        "    print(\"Clicile modelului: \", cliques)\n",
        "    return cliques\n",
        "\n",
        "#b) functia de potential energetic\n",
        "def energy_potential(A, coefficients):\n",
        "    \"\"\" functia de potential energetic pentru o clica \"\"\"\n",
        "    return np.exp(np.dot(coefficients, A))\n",
        "\n",
        "#calcul probabilitatile comune + MAP\n",
        "def calculate_joint_probabilities(cliques, coefficients):\n",
        "    \"\"\" probabilitatile comune si starea de probabilitate maxima (MAP) \"\"\"\n",
        "    #toate combinațiile posibile de stari (binare) pentru variabilele A1, A2, A3, A4, A5\n",
        "    states = list(itertools.product([0, 1], repeat=5))\n",
        "\n",
        "    #functie de calcul probabilitatea comune pentru o stare data\n",
        "    def joint_probability(state):\n",
        "        A1, A2, A3, A4, A5 = state\n",
        "        clique1 = [A1, A2, A3]\n",
        "        clique2 = [A2, A4, A5]\n",
        "        clique3 = [A3, A4]\n",
        "        return (energy_potential(clique1, coefficients['clique1']) *\n",
        "                energy_potential(clique2, coefficients['clique2']) *\n",
        "                energy_potential(clique3, coefficients['clique3']))\n",
        "\n",
        "    #calculam probabilitatile pentru toate starile posibile\n",
        "    probabilities = [joint_probability(state) for state in states]\n",
        "\n",
        "    #normalizare probabilitati\n",
        "    total_prob = sum(probabilities)\n",
        "    normalized_probabilities = [p / total_prob for p in probabilities]\n",
        "\n",
        "    #starea cu probabilitate maxima (MAP)\n",
        "    max_prob_index = np.argmax(normalized_probabilities)\n",
        "    max_prob_state = states[max_prob_index]\n",
        "\n",
        "    print(\"Starea de probabilitate maxima (MAP):\", max_prob_state)\n",
        "    print(\"Probabilitatea maxima:\", max(normalized_probabilities))\n",
        "\n",
        "#executie\n",
        "if __name__ == \"__main__\":\n",
        "#graful + clicile\n",
        "    cliques = create_markov_model()\n",
        "\n",
        "#definim coeficienții pentru fiecare clica\n",
        "    coefficients = {\n",
        "        'clique1': [1, 1, 1],  #clica {A1, A2, A3}\n",
        "        'clique2': [1, 1, 1],  #clica {A2, A4, A5}\n",
        "        'clique3': [1, 1]      #clica {A3, A4}\n",
        "    }\n",
        "\n",
        "    # Pas 2: Calculăm probabilitățile comune și MAP\n",
        "    calculate_joint_probabilities(cliques, coefficients)"
      ],
      "metadata": {
        "colab": {
          "base_uri": "https://localhost:8080/",
          "height": 777
        },
        "id": "5w4cBZxRvgw1",
        "outputId": "5cd3bc5b-07bd-4a5e-e578-f109e6bbf1ea"
      },
      "execution_count": 5,
      "outputs": [
        {
          "output_type": "stream",
          "name": "stderr",
          "text": [
            "WARNING:pgmpy:MarkovModel has been renamed to MarkovNetwork. Please use MarkovNetwork class, MarkovModel will be removed in future.\n",
            "WARNING:matplotlib.text:posx and posy should be finite values\n",
            "WARNING:matplotlib.text:posx and posy should be finite values\n",
            "WARNING:matplotlib.text:posx and posy should be finite values\n",
            "WARNING:matplotlib.text:posx and posy should be finite values\n",
            "WARNING:matplotlib.text:posx and posy should be finite values\n",
            "WARNING:matplotlib.text:posx and posy should be finite values\n",
            "WARNING:matplotlib.text:posx and posy should be finite values\n",
            "WARNING:matplotlib.text:posx and posy should be finite values\n",
            "WARNING:matplotlib.text:posx and posy should be finite values\n",
            "WARNING:matplotlib.text:posx and posy should be finite values\n"
          ]
        },
        {
          "output_type": "display_data",
          "data": {
            "text/plain": [
              "<Figure size 640x480 with 1 Axes>"
            ],
            "image/png": "[encoded data removed]"
          },
          "metadata": {}
        },
        {
          "output_type": "stream",
          "name": "stdout",
          "text": [
            "Clicile modelului:  [['A3', 'A4'], ['A3', 'A1'], ['A2', 'A5', 'A4'], ['A2', 'A1']]\n",
            "Starea de probabilitate maximă (MAP): (1, 1, 1, 1, 1)\n",
            "Probabilitatea maximă: 0.3652009941107978\n"
          ]
        }
      ]
    }
  ]
}